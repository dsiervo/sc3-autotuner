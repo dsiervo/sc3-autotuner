{
 "cells": [
  {
   "cell_type": "code",
   "execution_count": 2,
   "metadata": {},
   "outputs": [],
   "source": [
    "import pandas_read_xml as pdx\n",
    "import pandas as pd\n",
    "import os\n",
    "# import obspy UTCDateTime\n",
    "from obspy.core import UTCDateTime"
   ]
  },
  {
   "cell_type": "code",
   "execution_count": 4,
   "metadata": {},
   "outputs": [],
   "source": [
    "def get_station(x):\n",
    "  return x['@stationCode']\n",
    "\n",
    "def get_author(x):\n",
    "    return x['author']\n",
    "\n",
    "def get_channel(x):\n",
    "    return x['@channelCode']\n",
    "\n",
    "def get_loc(x):\n",
    "    return x['@locationCode']\n",
    "\n",
    "def open_dict_time(x):\n",
    "    return x['value']\n",
    "\n",
    "def load_df(xml_path, xml_type):\n",
    "    '''Create a dict of pandas dataframes from xml seiscomp files\n",
    "\n",
    "    Parameters\n",
    "    ----------\n",
    "    data_dir : str\n",
    "        Path containing xml files\n",
    "    xml_type : str\n",
    "        Type of the xml, can be pick or event\n",
    "\n",
    "    Returns\n",
    "    -------\n",
    "    dic\n",
    "        Dictionary with pandas dataframes\n",
    "    '''\n",
    "    \n",
    "    print(xml_path)\n",
    "    df = pdx.read_xml(xml_path, ['seiscomp', 'EventParameters', xml_type])\n",
    "\n",
    "    df['time'] = pd.to_datetime(df['time'].apply(open_dict_time))\n",
    "    df['station'] = df['waveformID'].apply(get_station)\n",
    "    df['author'] = df['creationInfo'].apply(get_author)\n",
    "    df['channel'] = df['waveformID'].apply(get_channel)\n",
    "    df['loc'] = df['waveformID'].apply(get_loc)\n",
    "\n",
    "    return df\n",
    "\n",
    "def load_and_merge(xml_dir, xml_type):\n",
    "    df_list = []\n",
    "    for file_ in os.listdir(xml_dir):\n",
    "        if file_.endswith(\".xml\"):\n",
    "            df = load_df(os.path.join(xml_dir, file_), xml_type)\n",
    "            df_list.append(df)\n",
    "    df = pd.concat(df_list)\n",
    "    return df\n",
    "\n",
    "def get_pick_times(xml_path):\n",
    "    print(xml_path)\n",
    "    df = pdx.read_xml(xml_path, ['seiscomp', 'EventParameters', 'pick'])\n",
    "    print(df)\n",
    "    df['time'] = pd.to_datetime(df['time'].apply(open_dict_time))\n",
    "    \n",
    "    t = df['time'].dt.tz_localize(None).astype('str').to_list()\n",
    "    times = [UTCDateTime(i) for i in t]\n",
    "    return times"
   ]
  },
  {
   "cell_type": "code",
   "execution_count": 5,
   "metadata": {},
   "outputs": [
    {
     "name": "stdout",
     "output_type": "stream",
     "text": [
      "/home/sgc/my_repositories/sc3-autotuner/picks_xml/SGC2020tjcgip_picks.xml\n",
      "                                                   0  \\\n",
      "0  {'@publicID': '20201001.013908.51-CM.BAR2.00.H...   \n",
      "\n",
      "                                                   1  \n",
      "0  {'@publicID': '20201001.013921.38-CM.BAR2.00.H...  \n"
     ]
    },
    {
     "ename": "KeyError",
     "evalue": "'time'",
     "output_type": "error",
     "traceback": [
      "\u001b[0;31m---------------------------------------------------------------------------\u001b[0m",
      "\u001b[0;31mKeyError\u001b[0m                                  Traceback (most recent call last)",
      "\u001b[0;32m/tmp/ipykernel_2284/1097222280.py\u001b[0m in \u001b[0;36m<module>\u001b[0;34m\u001b[0m\n\u001b[0;32m----> 1\u001b[0;31m \u001b[0mget_pick_times\u001b[0m\u001b[0;34m(\u001b[0m\u001b[0;34m'/home/sgc/my_repositories/sc3-autotuner/picks_xml/SGC2020tjcgip_picks.xml'\u001b[0m\u001b[0;34m)\u001b[0m\u001b[0;34m\u001b[0m\u001b[0;34m\u001b[0m\u001b[0m\n\u001b[0m",
      "\u001b[0;32m/tmp/ipykernel_2284/3519364015.py\u001b[0m in \u001b[0;36mget_pick_times\u001b[0;34m(xml_path)\u001b[0m\n\u001b[1;32m     54\u001b[0m     \u001b[0mdf\u001b[0m \u001b[0;34m=\u001b[0m \u001b[0mpdx\u001b[0m\u001b[0;34m.\u001b[0m\u001b[0mread_xml\u001b[0m\u001b[0;34m(\u001b[0m\u001b[0mxml_path\u001b[0m\u001b[0;34m,\u001b[0m \u001b[0;34m[\u001b[0m\u001b[0;34m'seiscomp'\u001b[0m\u001b[0;34m,\u001b[0m \u001b[0;34m'EventParameters'\u001b[0m\u001b[0;34m,\u001b[0m \u001b[0;34m'pick'\u001b[0m\u001b[0;34m]\u001b[0m\u001b[0;34m)\u001b[0m\u001b[0;34m\u001b[0m\u001b[0;34m\u001b[0m\u001b[0m\n\u001b[1;32m     55\u001b[0m     \u001b[0mprint\u001b[0m\u001b[0;34m(\u001b[0m\u001b[0mdf\u001b[0m\u001b[0;34m)\u001b[0m\u001b[0;34m\u001b[0m\u001b[0;34m\u001b[0m\u001b[0m\n\u001b[0;32m---> 56\u001b[0;31m     \u001b[0mdf\u001b[0m\u001b[0;34m[\u001b[0m\u001b[0;34m'time'\u001b[0m\u001b[0;34m]\u001b[0m \u001b[0;34m=\u001b[0m \u001b[0mpd\u001b[0m\u001b[0;34m.\u001b[0m\u001b[0mto_datetime\u001b[0m\u001b[0;34m(\u001b[0m\u001b[0mdf\u001b[0m\u001b[0;34m[\u001b[0m\u001b[0;34m'time'\u001b[0m\u001b[0;34m]\u001b[0m\u001b[0;34m.\u001b[0m\u001b[0mapply\u001b[0m\u001b[0;34m(\u001b[0m\u001b[0mopen_dict_time\u001b[0m\u001b[0;34m)\u001b[0m\u001b[0;34m)\u001b[0m\u001b[0;34m\u001b[0m\u001b[0;34m\u001b[0m\u001b[0m\n\u001b[0m\u001b[1;32m     57\u001b[0m \u001b[0;34m\u001b[0m\u001b[0m\n\u001b[1;32m     58\u001b[0m     \u001b[0mt\u001b[0m \u001b[0;34m=\u001b[0m \u001b[0mdf\u001b[0m\u001b[0;34m[\u001b[0m\u001b[0;34m'time'\u001b[0m\u001b[0;34m]\u001b[0m\u001b[0;34m.\u001b[0m\u001b[0mdt\u001b[0m\u001b[0;34m.\u001b[0m\u001b[0mtz_localize\u001b[0m\u001b[0;34m(\u001b[0m\u001b[0;32mNone\u001b[0m\u001b[0;34m)\u001b[0m\u001b[0;34m.\u001b[0m\u001b[0mastype\u001b[0m\u001b[0;34m(\u001b[0m\u001b[0;34m'str'\u001b[0m\u001b[0;34m)\u001b[0m\u001b[0;34m.\u001b[0m\u001b[0mto_list\u001b[0m\u001b[0;34m(\u001b[0m\u001b[0;34m)\u001b[0m\u001b[0;34m\u001b[0m\u001b[0;34m\u001b[0m\u001b[0m\n",
      "\u001b[0;32m~/my_repositories/sc3-autotuner/env/lib/python3.8/site-packages/pandas/core/frame.py\u001b[0m in \u001b[0;36m__getitem__\u001b[0;34m(self, key)\u001b[0m\n\u001b[1;32m   3456\u001b[0m             \u001b[0;32mif\u001b[0m \u001b[0mself\u001b[0m\u001b[0;34m.\u001b[0m\u001b[0mcolumns\u001b[0m\u001b[0;34m.\u001b[0m\u001b[0mnlevels\u001b[0m \u001b[0;34m>\u001b[0m \u001b[0;36m1\u001b[0m\u001b[0;34m:\u001b[0m\u001b[0;34m\u001b[0m\u001b[0;34m\u001b[0m\u001b[0m\n\u001b[1;32m   3457\u001b[0m                 \u001b[0;32mreturn\u001b[0m \u001b[0mself\u001b[0m\u001b[0;34m.\u001b[0m\u001b[0m_getitem_multilevel\u001b[0m\u001b[0;34m(\u001b[0m\u001b[0mkey\u001b[0m\u001b[0;34m)\u001b[0m\u001b[0;34m\u001b[0m\u001b[0;34m\u001b[0m\u001b[0m\n\u001b[0;32m-> 3458\u001b[0;31m             \u001b[0mindexer\u001b[0m \u001b[0;34m=\u001b[0m \u001b[0mself\u001b[0m\u001b[0;34m.\u001b[0m\u001b[0mcolumns\u001b[0m\u001b[0;34m.\u001b[0m\u001b[0mget_loc\u001b[0m\u001b[0;34m(\u001b[0m\u001b[0mkey\u001b[0m\u001b[0;34m)\u001b[0m\u001b[0;34m\u001b[0m\u001b[0;34m\u001b[0m\u001b[0m\n\u001b[0m\u001b[1;32m   3459\u001b[0m             \u001b[0;32mif\u001b[0m \u001b[0mis_integer\u001b[0m\u001b[0;34m(\u001b[0m\u001b[0mindexer\u001b[0m\u001b[0;34m)\u001b[0m\u001b[0;34m:\u001b[0m\u001b[0;34m\u001b[0m\u001b[0;34m\u001b[0m\u001b[0m\n\u001b[1;32m   3460\u001b[0m                 \u001b[0mindexer\u001b[0m \u001b[0;34m=\u001b[0m \u001b[0;34m[\u001b[0m\u001b[0mindexer\u001b[0m\u001b[0;34m]\u001b[0m\u001b[0;34m\u001b[0m\u001b[0;34m\u001b[0m\u001b[0m\n",
      "\u001b[0;32m~/my_repositories/sc3-autotuner/env/lib/python3.8/site-packages/pandas/core/indexes/range.py\u001b[0m in \u001b[0;36mget_loc\u001b[0;34m(self, key, method, tolerance)\u001b[0m\n\u001b[1;32m    386\u001b[0m                 \u001b[0;32mexcept\u001b[0m \u001b[0mValueError\u001b[0m \u001b[0;32mas\u001b[0m \u001b[0merr\u001b[0m\u001b[0;34m:\u001b[0m\u001b[0;34m\u001b[0m\u001b[0;34m\u001b[0m\u001b[0m\n\u001b[1;32m    387\u001b[0m                     \u001b[0;32mraise\u001b[0m \u001b[0mKeyError\u001b[0m\u001b[0;34m(\u001b[0m\u001b[0mkey\u001b[0m\u001b[0;34m)\u001b[0m \u001b[0;32mfrom\u001b[0m \u001b[0merr\u001b[0m\u001b[0;34m\u001b[0m\u001b[0;34m\u001b[0m\u001b[0m\n\u001b[0;32m--> 388\u001b[0;31m             \u001b[0;32mraise\u001b[0m \u001b[0mKeyError\u001b[0m\u001b[0;34m(\u001b[0m\u001b[0mkey\u001b[0m\u001b[0;34m)\u001b[0m\u001b[0;34m\u001b[0m\u001b[0;34m\u001b[0m\u001b[0m\n\u001b[0m\u001b[1;32m    389\u001b[0m         \u001b[0;32mreturn\u001b[0m \u001b[0msuper\u001b[0m\u001b[0;34m(\u001b[0m\u001b[0;34m)\u001b[0m\u001b[0;34m.\u001b[0m\u001b[0mget_loc\u001b[0m\u001b[0;34m(\u001b[0m\u001b[0mkey\u001b[0m\u001b[0;34m,\u001b[0m \u001b[0mmethod\u001b[0m\u001b[0;34m=\u001b[0m\u001b[0mmethod\u001b[0m\u001b[0;34m,\u001b[0m \u001b[0mtolerance\u001b[0m\u001b[0;34m=\u001b[0m\u001b[0mtolerance\u001b[0m\u001b[0;34m)\u001b[0m\u001b[0;34m\u001b[0m\u001b[0;34m\u001b[0m\u001b[0m\n\u001b[1;32m    390\u001b[0m \u001b[0;34m\u001b[0m\u001b[0m\n",
      "\u001b[0;31mKeyError\u001b[0m: 'time'"
     ]
    }
   ],
   "source": [
    "get_pick_times('/home/sgc/my_repositories/sc3-autotuner/picks_xml/SGC2020tjcgip_picks.xml')"
   ]
  },
  {
   "cell_type": "code",
   "execution_count": 33,
   "metadata": {},
   "outputs": [
    {
     "data": {
      "text/plain": [
       "{'version': '0.11'}"
      ]
     },
     "execution_count": 33,
     "metadata": {},
     "output_type": "execute_result"
    }
   ],
   "source": [
    "# extract the time values from the xml file who looks like this:\n",
    "\"\"\"\n",
    "<?xml version=\"1.0\" encoding=\"UTF-8\"?>\n",
    "<seiscomp xmlns=\"http://geofon.gfz-potsdam.de/ns/seiscomp3-schema/0.11\" version=\"0.11\">\n",
    "  <EventParameters>\n",
    "    <pick publicID=\"20201001.013908.51-CM.BAR2.00.HHZ\">\n",
    "      <time>\n",
    "        <value>2020-10-01T01:39:08.516548Z</value>\n",
    "      </time>\n",
    "    </pick>\n",
    "  </EventParameters>\n",
    "</seiscomp>\n",
    "\"\"\"\n",
    "import xml.etree.ElementTree as ET\n",
    "tree = ET.parse('/home/sgc/my_repositories/sc3-autotuner/picks_xml/SGC2020tjcgip_picks.xml')\n",
    "root = tree.getroot()\n",
    "root.attrib\n"
   ]
  },
  {
   "cell_type": "code",
   "execution_count": 35,
   "metadata": {},
   "outputs": [
    {
     "name": "stdout",
     "output_type": "stream",
     "text": [
      "2020-10-01T01:39:08.516548Z\n",
      "2020-10-01T01:39:21.386548Z\n"
     ]
    }
   ],
   "source": [
    "import xml.etree.ElementTree as ET\n",
    "ns = {'seiscomp': 'http://geofon.gfz-potsdam.de/ns/seiscomp3-schema/0.11'}\n",
    "root = ET.parse('/home/sgc/my_repositories/sc3-autotuner/picks_xml/SGC2020tjcgip_picks.xml').getroot()\n",
    "for pick in root.findall('seiscomp:EventParameters/seiscomp:pick', ns):\n",
    "    print(pick.find('seiscomp:time/seiscomp:value', ns).text)"
   ]
  },
  {
   "cell_type": "code",
   "execution_count": 27,
   "metadata": {},
   "outputs": [
    {
     "name": "stdout",
     "output_type": "stream",
     "text": [
      "P\n"
     ]
    }
   ],
   "source": [
    "import xml.etree.ElementTree as ET\n",
    "ns = {'seiscomp': 'http://geofon.gfz-potsdam.de/ns/seiscomp3-schema/0.11'}\n",
    "root = ET.parse('/home/sgc/my_repositories/sc3-autotuner/picks_xml/SGC2020tjcgip_picks.xml').getroot()\n",
    "picks = root.findall('seiscomp:EventParameters/seiscomp:pick', ns)\n",
    "p = picks[0]\n",
    "print(p.find('seiscomp:phaseHint', ns).text)"
   ]
  },
  {
   "cell_type": "code",
   "execution_count": 34,
   "metadata": {},
   "outputs": [
    {
     "data": {
      "text/plain": [
       "['{http://geofon.gfz-potsdam.de/ns/seiscomp3-schema/0.11}seiscomp',\n",
       " '{http://geofon.gfz-potsdam.de/ns/seiscomp3-schema/0.11}EventParameters',\n",
       " '{http://geofon.gfz-potsdam.de/ns/seiscomp3-schema/0.11}pick',\n",
       " '{http://geofon.gfz-potsdam.de/ns/seiscomp3-schema/0.11}time',\n",
       " '{http://geofon.gfz-potsdam.de/ns/seiscomp3-schema/0.11}value',\n",
       " '{http://geofon.gfz-potsdam.de/ns/seiscomp3-schema/0.11}waveformID',\n",
       " '{http://geofon.gfz-potsdam.de/ns/seiscomp3-schema/0.11}filterID',\n",
       " '{http://geofon.gfz-potsdam.de/ns/seiscomp3-schema/0.11}methodID',\n",
       " '{http://geofon.gfz-potsdam.de/ns/seiscomp3-schema/0.11}phaseHint',\n",
       " '{http://geofon.gfz-potsdam.de/ns/seiscomp3-schema/0.11}evaluationMode',\n",
       " '{http://geofon.gfz-potsdam.de/ns/seiscomp3-schema/0.11}creationInfo',\n",
       " '{http://geofon.gfz-potsdam.de/ns/seiscomp3-schema/0.11}agencyID',\n",
       " '{http://geofon.gfz-potsdam.de/ns/seiscomp3-schema/0.11}author',\n",
       " '{http://geofon.gfz-potsdam.de/ns/seiscomp3-schema/0.11}creationTime',\n",
       " '{http://geofon.gfz-potsdam.de/ns/seiscomp3-schema/0.11}pick',\n",
       " '{http://geofon.gfz-potsdam.de/ns/seiscomp3-schema/0.11}time',\n",
       " '{http://geofon.gfz-potsdam.de/ns/seiscomp3-schema/0.11}value',\n",
       " '{http://geofon.gfz-potsdam.de/ns/seiscomp3-schema/0.11}waveformID',\n",
       " '{http://geofon.gfz-potsdam.de/ns/seiscomp3-schema/0.11}filterID',\n",
       " '{http://geofon.gfz-potsdam.de/ns/seiscomp3-schema/0.11}methodID',\n",
       " '{http://geofon.gfz-potsdam.de/ns/seiscomp3-schema/0.11}phaseHint',\n",
       " '{http://geofon.gfz-potsdam.de/ns/seiscomp3-schema/0.11}evaluationMode',\n",
       " '{http://geofon.gfz-potsdam.de/ns/seiscomp3-schema/0.11}creationInfo',\n",
       " '{http://geofon.gfz-potsdam.de/ns/seiscomp3-schema/0.11}agencyID',\n",
       " '{http://geofon.gfz-potsdam.de/ns/seiscomp3-schema/0.11}author',\n",
       " '{http://geofon.gfz-potsdam.de/ns/seiscomp3-schema/0.11}creationTime']"
      ]
     },
     "execution_count": 34,
     "metadata": {},
     "output_type": "execute_result"
    }
   ],
   "source": [
    "[elem.tag for elem in root.iter()]"
   ]
  },
  {
   "cell_type": "code",
   "execution_count": null,
   "metadata": {},
   "outputs": [],
   "source": [
    "ns = {'seiscomp': 'http://geofon.gfz-potsdam.de/ns/seiscomp3-schema/0.11'}\n"
   ]
  },
  {
   "cell_type": "code",
   "execution_count": null,
   "metadata": {},
   "outputs": [
    {
     "name": "stdout",
     "output_type": "stream",
     "text": [
      "picks_xml/SGC2020tjbvjw_picks.xml\n",
      "picks_xml/SGC2020tjcgip_picks.xml\n"
     ]
    }
   ],
   "source": [
    "df = load_and_merge('picks_xml', 'pick')"
   ]
  },
  {
   "cell_type": "code",
   "execution_count": null,
   "metadata": {},
   "outputs": [
    {
     "data": {
      "text/html": [
       "<div>\n",
       "<style scoped>\n",
       "    .dataframe tbody tr th:only-of-type {\n",
       "        vertical-align: middle;\n",
       "    }\n",
       "\n",
       "    .dataframe tbody tr th {\n",
       "        vertical-align: top;\n",
       "    }\n",
       "\n",
       "    .dataframe thead th {\n",
       "        text-align: right;\n",
       "    }\n",
       "</style>\n",
       "<table border=\"1\" class=\"dataframe\">\n",
       "  <thead>\n",
       "    <tr style=\"text-align: right;\">\n",
       "      <th></th>\n",
       "      <th>@publicID</th>\n",
       "      <th>time</th>\n",
       "      <th>waveformID</th>\n",
       "      <th>filterID</th>\n",
       "      <th>methodID</th>\n",
       "      <th>phaseHint</th>\n",
       "      <th>evaluationMode</th>\n",
       "      <th>creationInfo</th>\n",
       "      <th>station</th>\n",
       "      <th>author</th>\n",
       "      <th>channel</th>\n",
       "      <th>loc</th>\n",
       "    </tr>\n",
       "  </thead>\n",
       "  <tbody>\n",
       "    <tr>\n",
       "      <th>0</th>\n",
       "      <td>20201001.012630.11-CM.BAR2.00.HHZ</td>\n",
       "      <td>2020-10-01 01:26:30.118393+00:00</td>\n",
       "      <td>{'@networkCode': 'CM', '@stationCode': 'BAR2',...</td>\n",
       "      <td>RMHP(10)&gt;&gt;ITAPER(30)&gt;&gt;BW(4,2,8)&gt;&gt;STALTA(0.1,5.7)</td>\n",
       "      <td>Trigger</td>\n",
       "      <td>P</td>\n",
       "      <td>automatic</td>\n",
       "      <td>{'agencyID': 'SGC', 'author': 'bdrsn', 'creati...</td>\n",
       "      <td>BAR2</td>\n",
       "      <td>bdrsn</td>\n",
       "      <td>HHZ</td>\n",
       "      <td>00</td>\n",
       "    </tr>\n",
       "    <tr>\n",
       "      <th>0</th>\n",
       "      <td>20201001.013908.65-CM.BAR2.00.HHZ</td>\n",
       "      <td>2020-10-01 01:39:08.658391+00:00</td>\n",
       "      <td>{'@networkCode': 'CM', '@stationCode': 'BAR2',...</td>\n",
       "      <td>RMHP(10)&gt;&gt;ITAPER(30)&gt;&gt;BW(4,2,8)&gt;&gt;STALTA(0.1,5.7)</td>\n",
       "      <td>Trigger</td>\n",
       "      <td>P</td>\n",
       "      <td>automatic</td>\n",
       "      <td>{'agencyID': 'SGC', 'author': 'bdrsn', 'creati...</td>\n",
       "      <td>BAR2</td>\n",
       "      <td>bdrsn</td>\n",
       "      <td>HHZ</td>\n",
       "      <td>00</td>\n",
       "    </tr>\n",
       "  </tbody>\n",
       "</table>\n",
       "</div>"
      ],
      "text/plain": [
       "                           @publicID                             time  \\\n",
       "0  20201001.012630.11-CM.BAR2.00.HHZ 2020-10-01 01:26:30.118393+00:00   \n",
       "0  20201001.013908.65-CM.BAR2.00.HHZ 2020-10-01 01:39:08.658391+00:00   \n",
       "\n",
       "                                          waveformID  \\\n",
       "0  {'@networkCode': 'CM', '@stationCode': 'BAR2',...   \n",
       "0  {'@networkCode': 'CM', '@stationCode': 'BAR2',...   \n",
       "\n",
       "                                           filterID methodID phaseHint  \\\n",
       "0  RMHP(10)>>ITAPER(30)>>BW(4,2,8)>>STALTA(0.1,5.7)  Trigger         P   \n",
       "0  RMHP(10)>>ITAPER(30)>>BW(4,2,8)>>STALTA(0.1,5.7)  Trigger         P   \n",
       "\n",
       "  evaluationMode                                       creationInfo station  \\\n",
       "0      automatic  {'agencyID': 'SGC', 'author': 'bdrsn', 'creati...    BAR2   \n",
       "0      automatic  {'agencyID': 'SGC', 'author': 'bdrsn', 'creati...    BAR2   \n",
       "\n",
       "  author channel loc  \n",
       "0  bdrsn     HHZ  00  \n",
       "0  bdrsn     HHZ  00  "
      ]
     },
     "execution_count": 14,
     "metadata": {},
     "output_type": "execute_result"
    }
   ],
   "source": [
    "df"
   ]
  },
  {
   "cell_type": "code",
   "execution_count": null,
   "metadata": {},
   "outputs": [
    {
     "name": "stdout",
     "output_type": "stream",
     "text": [
      "['2020-10-01 01:26:30.118393', '2020-10-01 01:39:08.658391']\n",
      "[UTCDateTime(2020, 10, 1, 1, 26, 30, 118393), UTCDateTime(2020, 10, 1, 1, 39, 8, 658391)]\n"
     ]
    }
   ],
   "source": [
    "t = df['time'].dt.tz_localize(None).astype('str').to_list()\n",
    "print(t)\n",
    "\n",
    "times = [UTCDateTime(i) for i in t]\n",
    "print(times)"
   ]
  },
  {
   "cell_type": "code",
   "execution_count": null,
   "metadata": {},
   "outputs": [
    {
     "data": {
      "text/html": [
       "<div>\n",
       "<style scoped>\n",
       "    .dataframe tbody tr th:only-of-type {\n",
       "        vertical-align: middle;\n",
       "    }\n",
       "\n",
       "    .dataframe tbody tr th {\n",
       "        vertical-align: top;\n",
       "    }\n",
       "\n",
       "    .dataframe thead th {\n",
       "        text-align: right;\n",
       "    }\n",
       "</style>\n",
       "<table border=\"1\" class=\"dataframe\">\n",
       "  <thead>\n",
       "    <tr style=\"text-align: right;\">\n",
       "      <th></th>\n",
       "      <th>@publicID</th>\n",
       "      <th>time</th>\n",
       "      <th>waveformID</th>\n",
       "      <th>filterID</th>\n",
       "      <th>methodID</th>\n",
       "      <th>phaseHint</th>\n",
       "      <th>evaluationMode</th>\n",
       "      <th>creationInfo</th>\n",
       "    </tr>\n",
       "  </thead>\n",
       "  <tbody>\n",
       "    <tr>\n",
       "      <th>0</th>\n",
       "      <td>20201001.013908.65-CM.BAR2.00.HHZ</td>\n",
       "      <td>{'value': '2020-10-01T01:39:08.658391Z'}</td>\n",
       "      <td>{'@networkCode': 'CM', '@stationCode': 'BAR2',...</td>\n",
       "      <td>RMHP(10)&gt;&gt;ITAPER(30)&gt;&gt;BW(4,2,8)&gt;&gt;STALTA(0.1,5.7)</td>\n",
       "      <td>Trigger</td>\n",
       "      <td>P</td>\n",
       "      <td>automatic</td>\n",
       "      <td>{'agencyID': 'SGC', 'author': 'bdrsn', 'creati...</td>\n",
       "    </tr>\n",
       "  </tbody>\n",
       "</table>\n",
       "</div>"
      ],
      "text/plain": [
       "                           @publicID  \\\n",
       "0  20201001.013908.65-CM.BAR2.00.HHZ   \n",
       "\n",
       "                                       time  \\\n",
       "0  {'value': '2020-10-01T01:39:08.658391Z'}   \n",
       "\n",
       "                                          waveformID  \\\n",
       "0  {'@networkCode': 'CM', '@stationCode': 'BAR2',...   \n",
       "\n",
       "                                           filterID methodID phaseHint  \\\n",
       "0  RMHP(10)>>ITAPER(30)>>BW(4,2,8)>>STALTA(0.1,5.7)  Trigger         P   \n",
       "\n",
       "  evaluationMode                                       creationInfo  \n",
       "0      automatic  {'agencyID': 'SGC', 'author': 'bdrsn', 'creati...  "
      ]
     },
     "execution_count": 11,
     "metadata": {},
     "output_type": "execute_result"
    }
   ],
   "source": [
    "df = pdx.read_xml('SGC2020tjcgip_picks.xml', ['seiscomp', 'EventParameters', 'pick'])\n",
    "df.head()"
   ]
  },
  {
   "cell_type": "code",
   "execution_count": null,
   "metadata": {},
   "outputs": [],
   "source": [
    "a = df[0]\n",
    "a.to_list()"
   ]
  },
  {
   "cell_type": "code",
   "execution_count": null,
   "metadata": {},
   "outputs": [],
   "source": [
    "df = load_df('picks_xml/merged2.xml', 'pick')\n",
    "df.info()"
   ]
  },
  {
   "cell_type": "code",
   "execution_count": null,
   "metadata": {},
   "outputs": [
    {
     "data": {
      "text/html": [
       "<div>\n",
       "<style scoped>\n",
       "    .dataframe tbody tr th:only-of-type {\n",
       "        vertical-align: middle;\n",
       "    }\n",
       "\n",
       "    .dataframe tbody tr th {\n",
       "        vertical-align: top;\n",
       "    }\n",
       "\n",
       "    .dataframe thead th {\n",
       "        text-align: right;\n",
       "    }\n",
       "</style>\n",
       "<table border=\"1\" class=\"dataframe\">\n",
       "  <thead>\n",
       "    <tr style=\"text-align: right;\">\n",
       "      <th></th>\n",
       "      <th>@publicID</th>\n",
       "      <th>time</th>\n",
       "      <th>waveformID</th>\n",
       "      <th>filterID</th>\n",
       "      <th>methodID</th>\n",
       "      <th>phaseHint</th>\n",
       "      <th>evaluationMode</th>\n",
       "      <th>creationInfo</th>\n",
       "      <th>station</th>\n",
       "      <th>author</th>\n",
       "      <th>channel</th>\n",
       "      <th>loc</th>\n",
       "    </tr>\n",
       "  </thead>\n",
       "  <tbody>\n",
       "    <tr>\n",
       "      <th>0</th>\n",
       "      <td>20201001.012630.11-CM.BAR2.00.HHZ</td>\n",
       "      <td>2020-10-01 01:26:30.118393+00:00</td>\n",
       "      <td>{'@networkCode': 'CM', '@stationCode': 'BAR2',...</td>\n",
       "      <td>RMHP(10)&gt;&gt;ITAPER(30)&gt;&gt;BW(4,2,8)&gt;&gt;STALTA(0.1,5.7)</td>\n",
       "      <td>Trigger</td>\n",
       "      <td>P</td>\n",
       "      <td>automatic</td>\n",
       "      <td>{'agencyID': 'SGC', 'author': 'bdrsn', 'creati...</td>\n",
       "      <td>BAR2</td>\n",
       "      <td>bdrsn</td>\n",
       "      <td>HHZ</td>\n",
       "      <td>00</td>\n",
       "    </tr>\n",
       "  </tbody>\n",
       "</table>\n",
       "</div>"
      ],
      "text/plain": [
       "                           @publicID                             time  \\\n",
       "0  20201001.012630.11-CM.BAR2.00.HHZ 2020-10-01 01:26:30.118393+00:00   \n",
       "\n",
       "                                          waveformID  \\\n",
       "0  {'@networkCode': 'CM', '@stationCode': 'BAR2',...   \n",
       "\n",
       "                                           filterID methodID phaseHint  \\\n",
       "0  RMHP(10)>>ITAPER(30)>>BW(4,2,8)>>STALTA(0.1,5.7)  Trigger         P   \n",
       "\n",
       "  evaluationMode                                       creationInfo station  \\\n",
       "0      automatic  {'agencyID': 'SGC', 'author': 'bdrsn', 'creati...    BAR2   \n",
       "\n",
       "  author channel loc  \n",
       "0  bdrsn     HHZ  00  "
      ]
     },
     "execution_count": 11,
     "metadata": {},
     "output_type": "execute_result"
    }
   ],
   "source": [
    "df"
   ]
  },
  {
   "cell_type": "code",
   "execution_count": null,
   "metadata": {},
   "outputs": [
    {
     "data": {
      "text/plain": [
       "OrderedDict([('@networkCode', 'CM'),\n",
       "             ('@stationCode', 'BAR2'),\n",
       "             ('@locationCode', '00'),\n",
       "             ('@channelCode', 'HHZ')])"
      ]
     },
     "execution_count": 8,
     "metadata": {},
     "output_type": "execute_result"
    }
   ],
   "source": [
    "df.loc[0,'waveformID']"
   ]
  },
  {
   "cell_type": "code",
   "execution_count": 4,
   "metadata": {},
   "outputs": [],
   "source": [
    "df = pd.read_csv('../results_P.csv')"
   ]
  },
  {
   "cell_type": "code",
   "execution_count": 5,
   "metadata": {},
   "outputs": [
    {
     "data": {
      "text/html": [
       "<div>\n",
       "<style scoped>\n",
       "    .dataframe tbody tr th:only-of-type {\n",
       "        vertical-align: middle;\n",
       "    }\n",
       "\n",
       "    .dataframe tbody tr th {\n",
       "        vertical-align: top;\n",
       "    }\n",
       "\n",
       "    .dataframe thead th {\n",
       "        text-align: right;\n",
       "    }\n",
       "</style>\n",
       "<table border=\"1\" class=\"dataframe\">\n",
       "  <thead>\n",
       "    <tr style=\"text-align: right;\">\n",
       "      <th></th>\n",
       "      <th>net.sta</th>\n",
       "      <th>p_sta</th>\n",
       "      <th>p_sta_width</th>\n",
       "      <th>f_min</th>\n",
       "      <th>f_width</th>\n",
       "      <th>trig_on</th>\n",
       "      <th>best_loss</th>\n",
       "    </tr>\n",
       "  </thead>\n",
       "  <tbody>\n",
       "    <tr>\n",
       "      <th>0</th>\n",
       "      <td>CM.BAR2</td>\n",
       "      <td>2.081039</td>\n",
       "      <td>6.069081</td>\n",
       "      <td>2</td>\n",
       "      <td>2</td>\n",
       "      <td>2.499587</td>\n",
       "      <td>0.7250</td>\n",
       "    </tr>\n",
       "    <tr>\n",
       "      <th>1</th>\n",
       "      <td>CM.BAR2</td>\n",
       "      <td>0.596044</td>\n",
       "      <td>24.523313</td>\n",
       "      <td>10</td>\n",
       "      <td>4</td>\n",
       "      <td>3.618983</td>\n",
       "      <td>0.5975</td>\n",
       "    </tr>\n",
       "  </tbody>\n",
       "</table>\n",
       "</div>"
      ],
      "text/plain": [
       "   net.sta     p_sta  p_sta_width  f_min  f_width   trig_on  best_loss\n",
       "0  CM.BAR2  2.081039     6.069081      2        2  2.499587     0.7250\n",
       "1  CM.BAR2  0.596044    24.523313     10        4  3.618983     0.5975"
      ]
     },
     "execution_count": 5,
     "metadata": {},
     "output_type": "execute_result"
    }
   ],
   "source": [
    "df.head()"
   ]
  },
  {
   "cell_type": "code",
   "execution_count": 18,
   "metadata": {},
   "outputs": [
    {
     "data": {
      "text/plain": [
       "{'net.sta': 'CM.BAR2',\n",
       " 'p_sta': 2.081039399182276,\n",
       " 'p_sta_width': 6.069080800141486,\n",
       " 'f_min': 2,\n",
       " 'f_width': 2,\n",
       " 'trig_on': 2.499586813154526,\n",
       " 'best_loss': 0.7250000000000001}"
      ]
     },
     "execution_count": 18,
     "metadata": {},
     "output_type": "execute_result"
    }
   ],
   "source": [
    "# selecting the row with net.sta equal to CM.BAR2 and with the highest value of best_loss\n",
    "df[df['net.sta'] == 'CM.BAR2'].sort_values(by='best_loss', ascending=False).iloc[0].to_dict()"
   ]
  },
  {
   "cell_type": "code",
   "execution_count": 19,
   "metadata": {},
   "outputs": [
    {
     "name": "stdout",
     "output_type": "stream",
     "text": [
      "a\n",
      "b\n"
     ]
    }
   ],
   "source": [
    "d = {'a':1, 'b':2}\n",
    "for k in d:\n",
    "    print(k)"
   ]
  },
  {
   "cell_type": "code",
   "execution_count": 21,
   "metadata": {},
   "outputs": [
    {
     "data": {
      "text/plain": [
       "False"
      ]
     },
     "execution_count": 21,
     "metadata": {},
     "output_type": "execute_result"
    }
   ],
   "source": [
    "not 'a'"
   ]
  },
  {
   "cell_type": "code",
   "execution_count": null,
   "metadata": {},
   "outputs": [],
   "source": []
  }
 ],
 "metadata": {
  "interpreter": {
   "hash": "ac799f6ce1614f1485fd0c7e603691cedc3816078e9d388cd9d1a3c5d49f2a29"
  },
  "kernelspec": {
   "display_name": "Python 3.8.0 64-bit ('env': venv)",
   "name": "python3"
  },
  "language_info": {
   "codemirror_mode": {
    "name": "ipython",
    "version": 3
   },
   "file_extension": ".py",
   "mimetype": "text/x-python",
   "name": "python",
   "nbconvert_exporter": "python",
   "pygments_lexer": "ipython3",
   "version": "3.8.0"
  },
  "orig_nbformat": 4
 },
 "nbformat": 4,
 "nbformat_minor": 2
}
