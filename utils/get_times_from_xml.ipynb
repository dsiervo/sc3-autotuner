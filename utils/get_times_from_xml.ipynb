{
 "cells": [
  {
   "cell_type": "code",
   "execution_count": 1,
   "source": [
    "import pandas_read_xml as pdx\n",
    "import pandas as pd\n",
    "import os\n",
    "# import obspy UTCDateTime\n",
    "from obspy.core import UTCDateTime"
   ],
   "outputs": [],
   "metadata": {}
  },
  {
   "cell_type": "code",
   "execution_count": 4,
   "source": [
    "def get_station(x):\n",
    "  return x['@stationCode']\n",
    "\n",
    "def get_author(x):\n",
    "    return x['author']\n",
    "\n",
    "def get_channel(x):\n",
    "    return x['@channelCode']\n",
    "\n",
    "def get_loc(x):\n",
    "    return x['@locationCode']\n",
    "\n",
    "def open_dict_time(x):\n",
    "    return x['value']\n",
    "\n",
    "def load_df(xml_path, xml_type):\n",
    "    '''Create a dict of pandas dataframes from xml seiscomp files\n",
    "\n",
    "    Parameters\n",
    "    ----------\n",
    "    data_dir : str\n",
    "        Path containing xml files\n",
    "    xml_type : str\n",
    "        Type of the xml, can be pick or event\n",
    "\n",
    "    Returns\n",
    "    -------\n",
    "    dic\n",
    "        Dictionary with pandas dataframes\n",
    "    '''\n",
    "    \n",
    "    print(xml_path)\n",
    "    df = pdx.read_xml(xml_path, ['seiscomp', 'EventParameters', xml_type])\n",
    "\n",
    "    df['time'] = pd.to_datetime(df['time'].apply(open_dict_time))\n",
    "    df['station'] = df['waveformID'].apply(get_station)\n",
    "    df['author'] = df['creationInfo'].apply(get_author)\n",
    "    df['channel'] = df['waveformID'].apply(get_channel)\n",
    "    df['loc'] = df['waveformID'].apply(get_loc)\n",
    "\n",
    "    return df\n",
    "\n",
    "def load_and_merge(xml_dir, xml_type):\n",
    "    df_list = []\n",
    "    for file_ in os.listdir(xml_dir):\n",
    "        if file_.endswith(\".xml\"):\n",
    "            df = load_df(os.path.join(xml_dir, file_), xml_type)\n",
    "            df_list.append(df)\n",
    "    df = pd.concat(df_list)\n",
    "    return df\n",
    "\n",
    "def get_pick_times(xml_path):\n",
    "    print(xml_path)\n",
    "    df = pdx.read_xml(xml_path, ['seiscomp', 'EventParameters', 'pick'])\n",
    "    print(df)\n",
    "    df['time'] = pd.to_datetime(df['time'].apply(open_dict_time))\n",
    "    \n",
    "    t = df['time'].dt.tz_localize(None).astype('str').to_list()\n",
    "    times = [UTCDateTime(i) for i in t]\n",
    "    return times"
   ],
   "outputs": [],
   "metadata": {}
  },
  {
   "cell_type": "code",
   "execution_count": 5,
   "source": [
    "get_pick_times('/home/sgc/my_repositories/sc3-autotuner/picks_xml/SGC2020tjcgip_picks.xml')"
   ],
   "outputs": [
    {
     "output_type": "stream",
     "name": "stdout",
     "text": [
      "/home/sgc/my_repositories/sc3-autotuner/picks_xml/SGC2020tjcgip_picks.xml\n",
      "                                                   0  \\\n",
      "0  {'@publicID': '20201001.013908.51-CM.BAR2.00.H...   \n",
      "\n",
      "                                                   1  \n",
      "0  {'@publicID': '20201001.013921.38-CM.BAR2.00.H...  \n"
     ]
    },
    {
     "output_type": "error",
     "ename": "KeyError",
     "evalue": "'time'",
     "traceback": [
      "\u001b[0;31m---------------------------------------------------------------------------\u001b[0m",
      "\u001b[0;31mKeyError\u001b[0m                                  Traceback (most recent call last)",
      "\u001b[0;32m/tmp/ipykernel_2284/1097222280.py\u001b[0m in \u001b[0;36m<module>\u001b[0;34m\u001b[0m\n\u001b[0;32m----> 1\u001b[0;31m \u001b[0mget_pick_times\u001b[0m\u001b[0;34m(\u001b[0m\u001b[0;34m'/home/sgc/my_repositories/sc3-autotuner/picks_xml/SGC2020tjcgip_picks.xml'\u001b[0m\u001b[0;34m)\u001b[0m\u001b[0;34m\u001b[0m\u001b[0;34m\u001b[0m\u001b[0m\n\u001b[0m",
      "\u001b[0;32m/tmp/ipykernel_2284/3519364015.py\u001b[0m in \u001b[0;36mget_pick_times\u001b[0;34m(xml_path)\u001b[0m\n\u001b[1;32m     54\u001b[0m     \u001b[0mdf\u001b[0m \u001b[0;34m=\u001b[0m \u001b[0mpdx\u001b[0m\u001b[0;34m.\u001b[0m\u001b[0mread_xml\u001b[0m\u001b[0;34m(\u001b[0m\u001b[0mxml_path\u001b[0m\u001b[0;34m,\u001b[0m \u001b[0;34m[\u001b[0m\u001b[0;34m'seiscomp'\u001b[0m\u001b[0;34m,\u001b[0m \u001b[0;34m'EventParameters'\u001b[0m\u001b[0;34m,\u001b[0m \u001b[0;34m'pick'\u001b[0m\u001b[0;34m]\u001b[0m\u001b[0;34m)\u001b[0m\u001b[0;34m\u001b[0m\u001b[0;34m\u001b[0m\u001b[0m\n\u001b[1;32m     55\u001b[0m     \u001b[0mprint\u001b[0m\u001b[0;34m(\u001b[0m\u001b[0mdf\u001b[0m\u001b[0;34m)\u001b[0m\u001b[0;34m\u001b[0m\u001b[0;34m\u001b[0m\u001b[0m\n\u001b[0;32m---> 56\u001b[0;31m     \u001b[0mdf\u001b[0m\u001b[0;34m[\u001b[0m\u001b[0;34m'time'\u001b[0m\u001b[0;34m]\u001b[0m \u001b[0;34m=\u001b[0m \u001b[0mpd\u001b[0m\u001b[0;34m.\u001b[0m\u001b[0mto_datetime\u001b[0m\u001b[0;34m(\u001b[0m\u001b[0mdf\u001b[0m\u001b[0;34m[\u001b[0m\u001b[0;34m'time'\u001b[0m\u001b[0;34m]\u001b[0m\u001b[0;34m.\u001b[0m\u001b[0mapply\u001b[0m\u001b[0;34m(\u001b[0m\u001b[0mopen_dict_time\u001b[0m\u001b[0;34m)\u001b[0m\u001b[0;34m)\u001b[0m\u001b[0;34m\u001b[0m\u001b[0;34m\u001b[0m\u001b[0m\n\u001b[0m\u001b[1;32m     57\u001b[0m \u001b[0;34m\u001b[0m\u001b[0m\n\u001b[1;32m     58\u001b[0m     \u001b[0mt\u001b[0m \u001b[0;34m=\u001b[0m \u001b[0mdf\u001b[0m\u001b[0;34m[\u001b[0m\u001b[0;34m'time'\u001b[0m\u001b[0;34m]\u001b[0m\u001b[0;34m.\u001b[0m\u001b[0mdt\u001b[0m\u001b[0;34m.\u001b[0m\u001b[0mtz_localize\u001b[0m\u001b[0;34m(\u001b[0m\u001b[0;32mNone\u001b[0m\u001b[0;34m)\u001b[0m\u001b[0;34m.\u001b[0m\u001b[0mastype\u001b[0m\u001b[0;34m(\u001b[0m\u001b[0;34m'str'\u001b[0m\u001b[0;34m)\u001b[0m\u001b[0;34m.\u001b[0m\u001b[0mto_list\u001b[0m\u001b[0;34m(\u001b[0m\u001b[0;34m)\u001b[0m\u001b[0;34m\u001b[0m\u001b[0;34m\u001b[0m\u001b[0m\n",
      "\u001b[0;32m~/my_repositories/sc3-autotuner/env/lib/python3.8/site-packages/pandas/core/frame.py\u001b[0m in \u001b[0;36m__getitem__\u001b[0;34m(self, key)\u001b[0m\n\u001b[1;32m   3456\u001b[0m             \u001b[0;32mif\u001b[0m \u001b[0mself\u001b[0m\u001b[0;34m.\u001b[0m\u001b[0mcolumns\u001b[0m\u001b[0;34m.\u001b[0m\u001b[0mnlevels\u001b[0m \u001b[0;34m>\u001b[0m \u001b[0;36m1\u001b[0m\u001b[0;34m:\u001b[0m\u001b[0;34m\u001b[0m\u001b[0;34m\u001b[0m\u001b[0m\n\u001b[1;32m   3457\u001b[0m                 \u001b[0;32mreturn\u001b[0m \u001b[0mself\u001b[0m\u001b[0;34m.\u001b[0m\u001b[0m_getitem_multilevel\u001b[0m\u001b[0;34m(\u001b[0m\u001b[0mkey\u001b[0m\u001b[0;34m)\u001b[0m\u001b[0;34m\u001b[0m\u001b[0;34m\u001b[0m\u001b[0m\n\u001b[0;32m-> 3458\u001b[0;31m             \u001b[0mindexer\u001b[0m \u001b[0;34m=\u001b[0m \u001b[0mself\u001b[0m\u001b[0;34m.\u001b[0m\u001b[0mcolumns\u001b[0m\u001b[0;34m.\u001b[0m\u001b[0mget_loc\u001b[0m\u001b[0;34m(\u001b[0m\u001b[0mkey\u001b[0m\u001b[0;34m)\u001b[0m\u001b[0;34m\u001b[0m\u001b[0;34m\u001b[0m\u001b[0m\n\u001b[0m\u001b[1;32m   3459\u001b[0m             \u001b[0;32mif\u001b[0m \u001b[0mis_integer\u001b[0m\u001b[0;34m(\u001b[0m\u001b[0mindexer\u001b[0m\u001b[0;34m)\u001b[0m\u001b[0;34m:\u001b[0m\u001b[0;34m\u001b[0m\u001b[0;34m\u001b[0m\u001b[0m\n\u001b[1;32m   3460\u001b[0m                 \u001b[0mindexer\u001b[0m \u001b[0;34m=\u001b[0m \u001b[0;34m[\u001b[0m\u001b[0mindexer\u001b[0m\u001b[0;34m]\u001b[0m\u001b[0;34m\u001b[0m\u001b[0;34m\u001b[0m\u001b[0m\n",
      "\u001b[0;32m~/my_repositories/sc3-autotuner/env/lib/python3.8/site-packages/pandas/core/indexes/range.py\u001b[0m in \u001b[0;36mget_loc\u001b[0;34m(self, key, method, tolerance)\u001b[0m\n\u001b[1;32m    386\u001b[0m                 \u001b[0;32mexcept\u001b[0m \u001b[0mValueError\u001b[0m \u001b[0;32mas\u001b[0m \u001b[0merr\u001b[0m\u001b[0;34m:\u001b[0m\u001b[0;34m\u001b[0m\u001b[0;34m\u001b[0m\u001b[0m\n\u001b[1;32m    387\u001b[0m                     \u001b[0;32mraise\u001b[0m \u001b[0mKeyError\u001b[0m\u001b[0;34m(\u001b[0m\u001b[0mkey\u001b[0m\u001b[0;34m)\u001b[0m \u001b[0;32mfrom\u001b[0m \u001b[0merr\u001b[0m\u001b[0;34m\u001b[0m\u001b[0;34m\u001b[0m\u001b[0m\n\u001b[0;32m--> 388\u001b[0;31m             \u001b[0;32mraise\u001b[0m \u001b[0mKeyError\u001b[0m\u001b[0;34m(\u001b[0m\u001b[0mkey\u001b[0m\u001b[0;34m)\u001b[0m\u001b[0;34m\u001b[0m\u001b[0;34m\u001b[0m\u001b[0m\n\u001b[0m\u001b[1;32m    389\u001b[0m         \u001b[0;32mreturn\u001b[0m \u001b[0msuper\u001b[0m\u001b[0;34m(\u001b[0m\u001b[0;34m)\u001b[0m\u001b[0;34m.\u001b[0m\u001b[0mget_loc\u001b[0m\u001b[0;34m(\u001b[0m\u001b[0mkey\u001b[0m\u001b[0;34m,\u001b[0m \u001b[0mmethod\u001b[0m\u001b[0;34m=\u001b[0m\u001b[0mmethod\u001b[0m\u001b[0;34m,\u001b[0m \u001b[0mtolerance\u001b[0m\u001b[0;34m=\u001b[0m\u001b[0mtolerance\u001b[0m\u001b[0;34m)\u001b[0m\u001b[0;34m\u001b[0m\u001b[0;34m\u001b[0m\u001b[0m\n\u001b[1;32m    390\u001b[0m \u001b[0;34m\u001b[0m\u001b[0m\n",
      "\u001b[0;31mKeyError\u001b[0m: 'time'"
     ]
    }
   ],
   "metadata": {}
  },
  {
   "cell_type": "code",
   "execution_count": 33,
   "source": [
    "# extract the time values from the xml file who looks like this:\n",
    "\"\"\"\n",
    "<?xml version=\"1.0\" encoding=\"UTF-8\"?>\n",
    "<seiscomp xmlns=\"http://geofon.gfz-potsdam.de/ns/seiscomp3-schema/0.11\" version=\"0.11\">\n",
    "  <EventParameters>\n",
    "    <pick publicID=\"20201001.013908.51-CM.BAR2.00.HHZ\">\n",
    "      <time>\n",
    "        <value>2020-10-01T01:39:08.516548Z</value>\n",
    "      </time>\n",
    "    </pick>\n",
    "  </EventParameters>\n",
    "</seiscomp>\n",
    "\"\"\"\n",
    "import xml.etree.ElementTree as ET\n",
    "tree = ET.parse('/home/sgc/my_repositories/sc3-autotuner/picks_xml/SGC2020tjcgip_picks.xml')\n",
    "root = tree.getroot()\n",
    "root.attrib\n"
   ],
   "outputs": [
    {
     "output_type": "execute_result",
     "data": {
      "text/plain": [
       "{'version': '0.11'}"
      ]
     },
     "metadata": {},
     "execution_count": 33
    }
   ],
   "metadata": {}
  },
  {
   "cell_type": "code",
   "execution_count": 35,
   "source": [
    "import xml.etree.ElementTree as ET\n",
    "ns = {'seiscomp': 'http://geofon.gfz-potsdam.de/ns/seiscomp3-schema/0.11'}\n",
    "root = ET.parse('/home/sgc/my_repositories/sc3-autotuner/picks_xml/SGC2020tjcgip_picks.xml').getroot()\n",
    "for pick in root.findall('seiscomp:EventParameters/seiscomp:pick', ns):\n",
    "    print(pick.find('seiscomp:time/seiscomp:value', ns).text)"
   ],
   "outputs": [
    {
     "output_type": "stream",
     "name": "stdout",
     "text": [
      "2020-10-01T01:39:08.516548Z\n",
      "2020-10-01T01:39:21.386548Z\n"
     ]
    }
   ],
   "metadata": {}
  },
  {
   "cell_type": "code",
   "execution_count": 34,
   "source": [
    "[elem.tag for elem in root.iter()]"
   ],
   "outputs": [
    {
     "output_type": "execute_result",
     "data": {
      "text/plain": [
       "['{http://geofon.gfz-potsdam.de/ns/seiscomp3-schema/0.11}seiscomp',\n",
       " '{http://geofon.gfz-potsdam.de/ns/seiscomp3-schema/0.11}EventParameters',\n",
       " '{http://geofon.gfz-potsdam.de/ns/seiscomp3-schema/0.11}pick',\n",
       " '{http://geofon.gfz-potsdam.de/ns/seiscomp3-schema/0.11}time',\n",
       " '{http://geofon.gfz-potsdam.de/ns/seiscomp3-schema/0.11}value',\n",
       " '{http://geofon.gfz-potsdam.de/ns/seiscomp3-schema/0.11}waveformID',\n",
       " '{http://geofon.gfz-potsdam.de/ns/seiscomp3-schema/0.11}filterID',\n",
       " '{http://geofon.gfz-potsdam.de/ns/seiscomp3-schema/0.11}methodID',\n",
       " '{http://geofon.gfz-potsdam.de/ns/seiscomp3-schema/0.11}phaseHint',\n",
       " '{http://geofon.gfz-potsdam.de/ns/seiscomp3-schema/0.11}evaluationMode',\n",
       " '{http://geofon.gfz-potsdam.de/ns/seiscomp3-schema/0.11}creationInfo',\n",
       " '{http://geofon.gfz-potsdam.de/ns/seiscomp3-schema/0.11}agencyID',\n",
       " '{http://geofon.gfz-potsdam.de/ns/seiscomp3-schema/0.11}author',\n",
       " '{http://geofon.gfz-potsdam.de/ns/seiscomp3-schema/0.11}creationTime',\n",
       " '{http://geofon.gfz-potsdam.de/ns/seiscomp3-schema/0.11}pick',\n",
       " '{http://geofon.gfz-potsdam.de/ns/seiscomp3-schema/0.11}time',\n",
       " '{http://geofon.gfz-potsdam.de/ns/seiscomp3-schema/0.11}value',\n",
       " '{http://geofon.gfz-potsdam.de/ns/seiscomp3-schema/0.11}waveformID',\n",
       " '{http://geofon.gfz-potsdam.de/ns/seiscomp3-schema/0.11}filterID',\n",
       " '{http://geofon.gfz-potsdam.de/ns/seiscomp3-schema/0.11}methodID',\n",
       " '{http://geofon.gfz-potsdam.de/ns/seiscomp3-schema/0.11}phaseHint',\n",
       " '{http://geofon.gfz-potsdam.de/ns/seiscomp3-schema/0.11}evaluationMode',\n",
       " '{http://geofon.gfz-potsdam.de/ns/seiscomp3-schema/0.11}creationInfo',\n",
       " '{http://geofon.gfz-potsdam.de/ns/seiscomp3-schema/0.11}agencyID',\n",
       " '{http://geofon.gfz-potsdam.de/ns/seiscomp3-schema/0.11}author',\n",
       " '{http://geofon.gfz-potsdam.de/ns/seiscomp3-schema/0.11}creationTime']"
      ]
     },
     "metadata": {},
     "execution_count": 34
    }
   ],
   "metadata": {}
  },
  {
   "cell_type": "code",
   "execution_count": null,
   "source": [
    "ns = {'seiscomp': 'http://geofon.gfz-potsdam.de/ns/seiscomp3-schema/0.11'}\n"
   ],
   "outputs": [],
   "metadata": {}
  },
  {
   "cell_type": "code",
   "execution_count": null,
   "source": [
    "df = load_and_merge('picks_xml', 'pick')"
   ],
   "outputs": [
    {
     "output_type": "stream",
     "name": "stdout",
     "text": [
      "picks_xml/SGC2020tjbvjw_picks.xml\n",
      "picks_xml/SGC2020tjcgip_picks.xml\n"
     ]
    }
   ],
   "metadata": {}
  },
  {
   "cell_type": "code",
   "execution_count": null,
   "source": [
    "df"
   ],
   "outputs": [
    {
     "output_type": "execute_result",
     "data": {
      "text/html": [
       "<div>\n",
       "<style scoped>\n",
       "    .dataframe tbody tr th:only-of-type {\n",
       "        vertical-align: middle;\n",
       "    }\n",
       "\n",
       "    .dataframe tbody tr th {\n",
       "        vertical-align: top;\n",
       "    }\n",
       "\n",
       "    .dataframe thead th {\n",
       "        text-align: right;\n",
       "    }\n",
       "</style>\n",
       "<table border=\"1\" class=\"dataframe\">\n",
       "  <thead>\n",
       "    <tr style=\"text-align: right;\">\n",
       "      <th></th>\n",
       "      <th>@publicID</th>\n",
       "      <th>time</th>\n",
       "      <th>waveformID</th>\n",
       "      <th>filterID</th>\n",
       "      <th>methodID</th>\n",
       "      <th>phaseHint</th>\n",
       "      <th>evaluationMode</th>\n",
       "      <th>creationInfo</th>\n",
       "      <th>station</th>\n",
       "      <th>author</th>\n",
       "      <th>channel</th>\n",
       "      <th>loc</th>\n",
       "    </tr>\n",
       "  </thead>\n",
       "  <tbody>\n",
       "    <tr>\n",
       "      <th>0</th>\n",
       "      <td>20201001.012630.11-CM.BAR2.00.HHZ</td>\n",
       "      <td>2020-10-01 01:26:30.118393+00:00</td>\n",
       "      <td>{'@networkCode': 'CM', '@stationCode': 'BAR2',...</td>\n",
       "      <td>RMHP(10)&gt;&gt;ITAPER(30)&gt;&gt;BW(4,2,8)&gt;&gt;STALTA(0.1,5.7)</td>\n",
       "      <td>Trigger</td>\n",
       "      <td>P</td>\n",
       "      <td>automatic</td>\n",
       "      <td>{'agencyID': 'SGC', 'author': 'bdrsn', 'creati...</td>\n",
       "      <td>BAR2</td>\n",
       "      <td>bdrsn</td>\n",
       "      <td>HHZ</td>\n",
       "      <td>00</td>\n",
       "    </tr>\n",
       "    <tr>\n",
       "      <th>0</th>\n",
       "      <td>20201001.013908.65-CM.BAR2.00.HHZ</td>\n",
       "      <td>2020-10-01 01:39:08.658391+00:00</td>\n",
       "      <td>{'@networkCode': 'CM', '@stationCode': 'BAR2',...</td>\n",
       "      <td>RMHP(10)&gt;&gt;ITAPER(30)&gt;&gt;BW(4,2,8)&gt;&gt;STALTA(0.1,5.7)</td>\n",
       "      <td>Trigger</td>\n",
       "      <td>P</td>\n",
       "      <td>automatic</td>\n",
       "      <td>{'agencyID': 'SGC', 'author': 'bdrsn', 'creati...</td>\n",
       "      <td>BAR2</td>\n",
       "      <td>bdrsn</td>\n",
       "      <td>HHZ</td>\n",
       "      <td>00</td>\n",
       "    </tr>\n",
       "  </tbody>\n",
       "</table>\n",
       "</div>"
      ],
      "text/plain": [
       "                           @publicID                             time  \\\n",
       "0  20201001.012630.11-CM.BAR2.00.HHZ 2020-10-01 01:26:30.118393+00:00   \n",
       "0  20201001.013908.65-CM.BAR2.00.HHZ 2020-10-01 01:39:08.658391+00:00   \n",
       "\n",
       "                                          waveformID  \\\n",
       "0  {'@networkCode': 'CM', '@stationCode': 'BAR2',...   \n",
       "0  {'@networkCode': 'CM', '@stationCode': 'BAR2',...   \n",
       "\n",
       "                                           filterID methodID phaseHint  \\\n",
       "0  RMHP(10)>>ITAPER(30)>>BW(4,2,8)>>STALTA(0.1,5.7)  Trigger         P   \n",
       "0  RMHP(10)>>ITAPER(30)>>BW(4,2,8)>>STALTA(0.1,5.7)  Trigger         P   \n",
       "\n",
       "  evaluationMode                                       creationInfo station  \\\n",
       "0      automatic  {'agencyID': 'SGC', 'author': 'bdrsn', 'creati...    BAR2   \n",
       "0      automatic  {'agencyID': 'SGC', 'author': 'bdrsn', 'creati...    BAR2   \n",
       "\n",
       "  author channel loc  \n",
       "0  bdrsn     HHZ  00  \n",
       "0  bdrsn     HHZ  00  "
      ]
     },
     "metadata": {},
     "execution_count": 14
    }
   ],
   "metadata": {}
  },
  {
   "cell_type": "code",
   "execution_count": null,
   "source": [
    "t = df['time'].dt.tz_localize(None).astype('str').to_list()\n",
    "print(t)\n",
    "\n",
    "times = [UTCDateTime(i) for i in t]\n",
    "print(times)"
   ],
   "outputs": [
    {
     "output_type": "stream",
     "name": "stdout",
     "text": [
      "['2020-10-01 01:26:30.118393', '2020-10-01 01:39:08.658391']\n",
      "[UTCDateTime(2020, 10, 1, 1, 26, 30, 118393), UTCDateTime(2020, 10, 1, 1, 39, 8, 658391)]\n"
     ]
    }
   ],
   "metadata": {}
  },
  {
   "cell_type": "code",
   "execution_count": null,
   "source": [
    "df = pdx.read_xml('SGC2020tjcgip_picks.xml', ['seiscomp', 'EventParameters', 'pick'])\n",
    "df.head()"
   ],
   "outputs": [
    {
     "output_type": "execute_result",
     "data": {
      "text/html": [
       "<div>\n",
       "<style scoped>\n",
       "    .dataframe tbody tr th:only-of-type {\n",
       "        vertical-align: middle;\n",
       "    }\n",
       "\n",
       "    .dataframe tbody tr th {\n",
       "        vertical-align: top;\n",
       "    }\n",
       "\n",
       "    .dataframe thead th {\n",
       "        text-align: right;\n",
       "    }\n",
       "</style>\n",
       "<table border=\"1\" class=\"dataframe\">\n",
       "  <thead>\n",
       "    <tr style=\"text-align: right;\">\n",
       "      <th></th>\n",
       "      <th>@publicID</th>\n",
       "      <th>time</th>\n",
       "      <th>waveformID</th>\n",
       "      <th>filterID</th>\n",
       "      <th>methodID</th>\n",
       "      <th>phaseHint</th>\n",
       "      <th>evaluationMode</th>\n",
       "      <th>creationInfo</th>\n",
       "    </tr>\n",
       "  </thead>\n",
       "  <tbody>\n",
       "    <tr>\n",
       "      <th>0</th>\n",
       "      <td>20201001.013908.65-CM.BAR2.00.HHZ</td>\n",
       "      <td>{'value': '2020-10-01T01:39:08.658391Z'}</td>\n",
       "      <td>{'@networkCode': 'CM', '@stationCode': 'BAR2',...</td>\n",
       "      <td>RMHP(10)&gt;&gt;ITAPER(30)&gt;&gt;BW(4,2,8)&gt;&gt;STALTA(0.1,5.7)</td>\n",
       "      <td>Trigger</td>\n",
       "      <td>P</td>\n",
       "      <td>automatic</td>\n",
       "      <td>{'agencyID': 'SGC', 'author': 'bdrsn', 'creati...</td>\n",
       "    </tr>\n",
       "  </tbody>\n",
       "</table>\n",
       "</div>"
      ],
      "text/plain": [
       "                           @publicID  \\\n",
       "0  20201001.013908.65-CM.BAR2.00.HHZ   \n",
       "\n",
       "                                       time  \\\n",
       "0  {'value': '2020-10-01T01:39:08.658391Z'}   \n",
       "\n",
       "                                          waveformID  \\\n",
       "0  {'@networkCode': 'CM', '@stationCode': 'BAR2',...   \n",
       "\n",
       "                                           filterID methodID phaseHint  \\\n",
       "0  RMHP(10)>>ITAPER(30)>>BW(4,2,8)>>STALTA(0.1,5.7)  Trigger         P   \n",
       "\n",
       "  evaluationMode                                       creationInfo  \n",
       "0      automatic  {'agencyID': 'SGC', 'author': 'bdrsn', 'creati...  "
      ]
     },
     "metadata": {},
     "execution_count": 11
    }
   ],
   "metadata": {}
  },
  {
   "cell_type": "code",
   "execution_count": null,
   "source": [
    "a = df[0]\n",
    "a.to_list()"
   ],
   "outputs": [
    {
     "output_type": "error",
     "ename": "KeyError",
     "evalue": "0",
     "traceback": [
      "\u001b[0;31m---------------------------------------------------------------------------\u001b[0m",
      "\u001b[0;31mKeyError\u001b[0m                                  Traceback (most recent call last)",
      "\u001b[0;32m~/my_repositories/sc3-autotuner/env/lib/python3.8/site-packages/pandas/core/indexes/base.py\u001b[0m in \u001b[0;36mget_loc\u001b[0;34m(self, key, method, tolerance)\u001b[0m\n\u001b[1;32m   3360\u001b[0m             \u001b[0;32mtry\u001b[0m\u001b[0;34m:\u001b[0m\u001b[0;34m\u001b[0m\u001b[0;34m\u001b[0m\u001b[0m\n\u001b[0;32m-> 3361\u001b[0;31m                 \u001b[0;32mreturn\u001b[0m \u001b[0mself\u001b[0m\u001b[0;34m.\u001b[0m\u001b[0m_engine\u001b[0m\u001b[0;34m.\u001b[0m\u001b[0mget_loc\u001b[0m\u001b[0;34m(\u001b[0m\u001b[0mcasted_key\u001b[0m\u001b[0;34m)\u001b[0m\u001b[0;34m\u001b[0m\u001b[0;34m\u001b[0m\u001b[0m\n\u001b[0m\u001b[1;32m   3362\u001b[0m             \u001b[0;32mexcept\u001b[0m \u001b[0mKeyError\u001b[0m \u001b[0;32mas\u001b[0m \u001b[0merr\u001b[0m\u001b[0;34m:\u001b[0m\u001b[0;34m\u001b[0m\u001b[0;34m\u001b[0m\u001b[0m\n",
      "\u001b[0;32m~/my_repositories/sc3-autotuner/env/lib/python3.8/site-packages/pandas/_libs/index.pyx\u001b[0m in \u001b[0;36mpandas._libs.index.IndexEngine.get_loc\u001b[0;34m()\u001b[0m\n",
      "\u001b[0;32m~/my_repositories/sc3-autotuner/env/lib/python3.8/site-packages/pandas/_libs/index.pyx\u001b[0m in \u001b[0;36mpandas._libs.index.IndexEngine.get_loc\u001b[0;34m()\u001b[0m\n",
      "\u001b[0;32mpandas/_libs/hashtable_class_helper.pxi\u001b[0m in \u001b[0;36mpandas._libs.hashtable.PyObjectHashTable.get_item\u001b[0;34m()\u001b[0m\n",
      "\u001b[0;32mpandas/_libs/hashtable_class_helper.pxi\u001b[0m in \u001b[0;36mpandas._libs.hashtable.PyObjectHashTable.get_item\u001b[0;34m()\u001b[0m\n",
      "\u001b[0;31mKeyError\u001b[0m: 0",
      "\nThe above exception was the direct cause of the following exception:\n",
      "\u001b[0;31mKeyError\u001b[0m                                  Traceback (most recent call last)",
      "\u001b[0;32m/tmp/ipykernel_17621/762610794.py\u001b[0m in \u001b[0;36m<module>\u001b[0;34m\u001b[0m\n\u001b[0;32m----> 1\u001b[0;31m \u001b[0ma\u001b[0m \u001b[0;34m=\u001b[0m \u001b[0mdf\u001b[0m\u001b[0;34m[\u001b[0m\u001b[0;36m0\u001b[0m\u001b[0;34m]\u001b[0m\u001b[0;34m\u001b[0m\u001b[0;34m\u001b[0m\u001b[0m\n\u001b[0m\u001b[1;32m      2\u001b[0m \u001b[0ma\u001b[0m\u001b[0;34m.\u001b[0m\u001b[0mto_list\u001b[0m\u001b[0;34m(\u001b[0m\u001b[0;34m)\u001b[0m\u001b[0;34m\u001b[0m\u001b[0;34m\u001b[0m\u001b[0m\n",
      "\u001b[0;32m~/my_repositories/sc3-autotuner/env/lib/python3.8/site-packages/pandas/core/frame.py\u001b[0m in \u001b[0;36m__getitem__\u001b[0;34m(self, key)\u001b[0m\n\u001b[1;32m   3456\u001b[0m             \u001b[0;32mif\u001b[0m \u001b[0mself\u001b[0m\u001b[0;34m.\u001b[0m\u001b[0mcolumns\u001b[0m\u001b[0;34m.\u001b[0m\u001b[0mnlevels\u001b[0m \u001b[0;34m>\u001b[0m \u001b[0;36m1\u001b[0m\u001b[0;34m:\u001b[0m\u001b[0;34m\u001b[0m\u001b[0;34m\u001b[0m\u001b[0m\n\u001b[1;32m   3457\u001b[0m                 \u001b[0;32mreturn\u001b[0m \u001b[0mself\u001b[0m\u001b[0;34m.\u001b[0m\u001b[0m_getitem_multilevel\u001b[0m\u001b[0;34m(\u001b[0m\u001b[0mkey\u001b[0m\u001b[0;34m)\u001b[0m\u001b[0;34m\u001b[0m\u001b[0;34m\u001b[0m\u001b[0m\n\u001b[0;32m-> 3458\u001b[0;31m             \u001b[0mindexer\u001b[0m \u001b[0;34m=\u001b[0m \u001b[0mself\u001b[0m\u001b[0;34m.\u001b[0m\u001b[0mcolumns\u001b[0m\u001b[0;34m.\u001b[0m\u001b[0mget_loc\u001b[0m\u001b[0;34m(\u001b[0m\u001b[0mkey\u001b[0m\u001b[0;34m)\u001b[0m\u001b[0;34m\u001b[0m\u001b[0;34m\u001b[0m\u001b[0m\n\u001b[0m\u001b[1;32m   3459\u001b[0m             \u001b[0;32mif\u001b[0m \u001b[0mis_integer\u001b[0m\u001b[0;34m(\u001b[0m\u001b[0mindexer\u001b[0m\u001b[0;34m)\u001b[0m\u001b[0;34m:\u001b[0m\u001b[0;34m\u001b[0m\u001b[0;34m\u001b[0m\u001b[0m\n\u001b[1;32m   3460\u001b[0m                 \u001b[0mindexer\u001b[0m \u001b[0;34m=\u001b[0m \u001b[0;34m[\u001b[0m\u001b[0mindexer\u001b[0m\u001b[0;34m]\u001b[0m\u001b[0;34m\u001b[0m\u001b[0;34m\u001b[0m\u001b[0m\n",
      "\u001b[0;32m~/my_repositories/sc3-autotuner/env/lib/python3.8/site-packages/pandas/core/indexes/base.py\u001b[0m in \u001b[0;36mget_loc\u001b[0;34m(self, key, method, tolerance)\u001b[0m\n\u001b[1;32m   3361\u001b[0m                 \u001b[0;32mreturn\u001b[0m \u001b[0mself\u001b[0m\u001b[0;34m.\u001b[0m\u001b[0m_engine\u001b[0m\u001b[0;34m.\u001b[0m\u001b[0mget_loc\u001b[0m\u001b[0;34m(\u001b[0m\u001b[0mcasted_key\u001b[0m\u001b[0;34m)\u001b[0m\u001b[0;34m\u001b[0m\u001b[0;34m\u001b[0m\u001b[0m\n\u001b[1;32m   3362\u001b[0m             \u001b[0;32mexcept\u001b[0m \u001b[0mKeyError\u001b[0m \u001b[0;32mas\u001b[0m \u001b[0merr\u001b[0m\u001b[0;34m:\u001b[0m\u001b[0;34m\u001b[0m\u001b[0;34m\u001b[0m\u001b[0m\n\u001b[0;32m-> 3363\u001b[0;31m                 \u001b[0;32mraise\u001b[0m \u001b[0mKeyError\u001b[0m\u001b[0;34m(\u001b[0m\u001b[0mkey\u001b[0m\u001b[0;34m)\u001b[0m \u001b[0;32mfrom\u001b[0m \u001b[0merr\u001b[0m\u001b[0;34m\u001b[0m\u001b[0;34m\u001b[0m\u001b[0m\n\u001b[0m\u001b[1;32m   3364\u001b[0m \u001b[0;34m\u001b[0m\u001b[0m\n\u001b[1;32m   3365\u001b[0m         \u001b[0;32mif\u001b[0m \u001b[0mis_scalar\u001b[0m\u001b[0;34m(\u001b[0m\u001b[0mkey\u001b[0m\u001b[0;34m)\u001b[0m \u001b[0;32mand\u001b[0m \u001b[0misna\u001b[0m\u001b[0;34m(\u001b[0m\u001b[0mkey\u001b[0m\u001b[0;34m)\u001b[0m \u001b[0;32mand\u001b[0m \u001b[0;32mnot\u001b[0m \u001b[0mself\u001b[0m\u001b[0;34m.\u001b[0m\u001b[0mhasnans\u001b[0m\u001b[0;34m:\u001b[0m\u001b[0;34m\u001b[0m\u001b[0;34m\u001b[0m\u001b[0m\n",
      "\u001b[0;31mKeyError\u001b[0m: 0"
     ]
    }
   ],
   "metadata": {}
  },
  {
   "cell_type": "code",
   "execution_count": null,
   "source": [
    "df = load_df('picks_xml/merged2.xml', 'pick')\n",
    "df.info()"
   ],
   "outputs": [
    {
     "output_type": "stream",
     "name": "stdout",
     "text": [
      "picks_xml/merged2.xml\n"
     ]
    },
    {
     "output_type": "error",
     "ename": "KeyError",
     "evalue": "'time'",
     "traceback": [
      "\u001b[0;31m---------------------------------------------------------------------------\u001b[0m",
      "\u001b[0;31mKeyError\u001b[0m                                  Traceback (most recent call last)",
      "\u001b[0;32m/tmp/ipykernel_25398/3922377921.py\u001b[0m in \u001b[0;36m<module>\u001b[0;34m\u001b[0m\n\u001b[0;32m----> 1\u001b[0;31m \u001b[0mdf\u001b[0m \u001b[0;34m=\u001b[0m \u001b[0mload_df\u001b[0m\u001b[0;34m(\u001b[0m\u001b[0;34m'picks_xml/merged2.xml'\u001b[0m\u001b[0;34m,\u001b[0m \u001b[0;34m'pick'\u001b[0m\u001b[0;34m)\u001b[0m\u001b[0;34m\u001b[0m\u001b[0;34m\u001b[0m\u001b[0m\n\u001b[0m\u001b[1;32m      2\u001b[0m \u001b[0mdf\u001b[0m\u001b[0;34m.\u001b[0m\u001b[0minfo\u001b[0m\u001b[0;34m(\u001b[0m\u001b[0;34m)\u001b[0m\u001b[0;34m\u001b[0m\u001b[0;34m\u001b[0m\u001b[0m\n",
      "\u001b[0;32m/tmp/ipykernel_25398/4166228559.py\u001b[0m in \u001b[0;36mload_df\u001b[0;34m(xml_path, xml_type)\u001b[0m\n\u001b[1;32m     33\u001b[0m     \u001b[0mdf\u001b[0m \u001b[0;34m=\u001b[0m \u001b[0mpdx\u001b[0m\u001b[0;34m.\u001b[0m\u001b[0mread_xml\u001b[0m\u001b[0;34m(\u001b[0m\u001b[0mxml_path\u001b[0m\u001b[0;34m,\u001b[0m \u001b[0;34m[\u001b[0m\u001b[0;34m'seiscomp'\u001b[0m\u001b[0;34m,\u001b[0m \u001b[0;34m'EventParameters'\u001b[0m\u001b[0;34m,\u001b[0m \u001b[0mxml_type\u001b[0m\u001b[0;34m]\u001b[0m\u001b[0;34m)\u001b[0m\u001b[0;34m\u001b[0m\u001b[0;34m\u001b[0m\u001b[0m\n\u001b[1;32m     34\u001b[0m \u001b[0;34m\u001b[0m\u001b[0m\n\u001b[0;32m---> 35\u001b[0;31m     \u001b[0mdf\u001b[0m\u001b[0;34m[\u001b[0m\u001b[0;34m'time'\u001b[0m\u001b[0;34m]\u001b[0m \u001b[0;34m=\u001b[0m \u001b[0mpd\u001b[0m\u001b[0;34m.\u001b[0m\u001b[0mto_datetime\u001b[0m\u001b[0;34m(\u001b[0m\u001b[0mdf\u001b[0m\u001b[0;34m[\u001b[0m\u001b[0;34m'time'\u001b[0m\u001b[0;34m]\u001b[0m\u001b[0;34m.\u001b[0m\u001b[0mapply\u001b[0m\u001b[0;34m(\u001b[0m\u001b[0mopen_dict_time\u001b[0m\u001b[0;34m)\u001b[0m\u001b[0;34m)\u001b[0m\u001b[0;34m\u001b[0m\u001b[0;34m\u001b[0m\u001b[0m\n\u001b[0m\u001b[1;32m     36\u001b[0m     \u001b[0mdf\u001b[0m\u001b[0;34m[\u001b[0m\u001b[0;34m'station'\u001b[0m\u001b[0;34m]\u001b[0m \u001b[0;34m=\u001b[0m \u001b[0mdf\u001b[0m\u001b[0;34m[\u001b[0m\u001b[0;34m'waveformID'\u001b[0m\u001b[0;34m]\u001b[0m\u001b[0;34m.\u001b[0m\u001b[0mapply\u001b[0m\u001b[0;34m(\u001b[0m\u001b[0mget_station\u001b[0m\u001b[0;34m)\u001b[0m\u001b[0;34m\u001b[0m\u001b[0;34m\u001b[0m\u001b[0m\n\u001b[1;32m     37\u001b[0m     \u001b[0mdf\u001b[0m\u001b[0;34m[\u001b[0m\u001b[0;34m'author'\u001b[0m\u001b[0;34m]\u001b[0m \u001b[0;34m=\u001b[0m \u001b[0mdf\u001b[0m\u001b[0;34m[\u001b[0m\u001b[0;34m'creationInfo'\u001b[0m\u001b[0;34m]\u001b[0m\u001b[0;34m.\u001b[0m\u001b[0mapply\u001b[0m\u001b[0;34m(\u001b[0m\u001b[0mget_author\u001b[0m\u001b[0;34m)\u001b[0m\u001b[0;34m\u001b[0m\u001b[0;34m\u001b[0m\u001b[0m\n",
      "\u001b[0;32m~/my_repositories/sc3-autotuner/env/lib/python3.8/site-packages/pandas/core/frame.py\u001b[0m in \u001b[0;36m__getitem__\u001b[0;34m(self, key)\u001b[0m\n\u001b[1;32m   3456\u001b[0m             \u001b[0;32mif\u001b[0m \u001b[0mself\u001b[0m\u001b[0;34m.\u001b[0m\u001b[0mcolumns\u001b[0m\u001b[0;34m.\u001b[0m\u001b[0mnlevels\u001b[0m \u001b[0;34m>\u001b[0m \u001b[0;36m1\u001b[0m\u001b[0;34m:\u001b[0m\u001b[0;34m\u001b[0m\u001b[0;34m\u001b[0m\u001b[0m\n\u001b[1;32m   3457\u001b[0m                 \u001b[0;32mreturn\u001b[0m \u001b[0mself\u001b[0m\u001b[0;34m.\u001b[0m\u001b[0m_getitem_multilevel\u001b[0m\u001b[0;34m(\u001b[0m\u001b[0mkey\u001b[0m\u001b[0;34m)\u001b[0m\u001b[0;34m\u001b[0m\u001b[0;34m\u001b[0m\u001b[0m\n\u001b[0;32m-> 3458\u001b[0;31m             \u001b[0mindexer\u001b[0m \u001b[0;34m=\u001b[0m \u001b[0mself\u001b[0m\u001b[0;34m.\u001b[0m\u001b[0mcolumns\u001b[0m\u001b[0;34m.\u001b[0m\u001b[0mget_loc\u001b[0m\u001b[0;34m(\u001b[0m\u001b[0mkey\u001b[0m\u001b[0;34m)\u001b[0m\u001b[0;34m\u001b[0m\u001b[0;34m\u001b[0m\u001b[0m\n\u001b[0m\u001b[1;32m   3459\u001b[0m             \u001b[0;32mif\u001b[0m \u001b[0mis_integer\u001b[0m\u001b[0;34m(\u001b[0m\u001b[0mindexer\u001b[0m\u001b[0;34m)\u001b[0m\u001b[0;34m:\u001b[0m\u001b[0;34m\u001b[0m\u001b[0;34m\u001b[0m\u001b[0m\n\u001b[1;32m   3460\u001b[0m                 \u001b[0mindexer\u001b[0m \u001b[0;34m=\u001b[0m \u001b[0;34m[\u001b[0m\u001b[0mindexer\u001b[0m\u001b[0;34m]\u001b[0m\u001b[0;34m\u001b[0m\u001b[0;34m\u001b[0m\u001b[0m\n",
      "\u001b[0;32m~/my_repositories/sc3-autotuner/env/lib/python3.8/site-packages/pandas/core/indexes/range.py\u001b[0m in \u001b[0;36mget_loc\u001b[0;34m(self, key, method, tolerance)\u001b[0m\n\u001b[1;32m    386\u001b[0m                 \u001b[0;32mexcept\u001b[0m \u001b[0mValueError\u001b[0m \u001b[0;32mas\u001b[0m \u001b[0merr\u001b[0m\u001b[0;34m:\u001b[0m\u001b[0;34m\u001b[0m\u001b[0;34m\u001b[0m\u001b[0m\n\u001b[1;32m    387\u001b[0m                     \u001b[0;32mraise\u001b[0m \u001b[0mKeyError\u001b[0m\u001b[0;34m(\u001b[0m\u001b[0mkey\u001b[0m\u001b[0;34m)\u001b[0m \u001b[0;32mfrom\u001b[0m \u001b[0merr\u001b[0m\u001b[0;34m\u001b[0m\u001b[0;34m\u001b[0m\u001b[0m\n\u001b[0;32m--> 388\u001b[0;31m             \u001b[0;32mraise\u001b[0m \u001b[0mKeyError\u001b[0m\u001b[0;34m(\u001b[0m\u001b[0mkey\u001b[0m\u001b[0;34m)\u001b[0m\u001b[0;34m\u001b[0m\u001b[0;34m\u001b[0m\u001b[0m\n\u001b[0m\u001b[1;32m    389\u001b[0m         \u001b[0;32mreturn\u001b[0m \u001b[0msuper\u001b[0m\u001b[0;34m(\u001b[0m\u001b[0;34m)\u001b[0m\u001b[0;34m.\u001b[0m\u001b[0mget_loc\u001b[0m\u001b[0;34m(\u001b[0m\u001b[0mkey\u001b[0m\u001b[0;34m,\u001b[0m \u001b[0mmethod\u001b[0m\u001b[0;34m=\u001b[0m\u001b[0mmethod\u001b[0m\u001b[0;34m,\u001b[0m \u001b[0mtolerance\u001b[0m\u001b[0;34m=\u001b[0m\u001b[0mtolerance\u001b[0m\u001b[0;34m)\u001b[0m\u001b[0;34m\u001b[0m\u001b[0;34m\u001b[0m\u001b[0m\n\u001b[1;32m    390\u001b[0m \u001b[0;34m\u001b[0m\u001b[0m\n",
      "\u001b[0;31mKeyError\u001b[0m: 'time'"
     ]
    }
   ],
   "metadata": {}
  },
  {
   "cell_type": "code",
   "execution_count": null,
   "source": [
    "df"
   ],
   "outputs": [
    {
     "output_type": "execute_result",
     "data": {
      "text/html": [
       "<div>\n",
       "<style scoped>\n",
       "    .dataframe tbody tr th:only-of-type {\n",
       "        vertical-align: middle;\n",
       "    }\n",
       "\n",
       "    .dataframe tbody tr th {\n",
       "        vertical-align: top;\n",
       "    }\n",
       "\n",
       "    .dataframe thead th {\n",
       "        text-align: right;\n",
       "    }\n",
       "</style>\n",
       "<table border=\"1\" class=\"dataframe\">\n",
       "  <thead>\n",
       "    <tr style=\"text-align: right;\">\n",
       "      <th></th>\n",
       "      <th>@publicID</th>\n",
       "      <th>time</th>\n",
       "      <th>waveformID</th>\n",
       "      <th>filterID</th>\n",
       "      <th>methodID</th>\n",
       "      <th>phaseHint</th>\n",
       "      <th>evaluationMode</th>\n",
       "      <th>creationInfo</th>\n",
       "      <th>station</th>\n",
       "      <th>author</th>\n",
       "      <th>channel</th>\n",
       "      <th>loc</th>\n",
       "    </tr>\n",
       "  </thead>\n",
       "  <tbody>\n",
       "    <tr>\n",
       "      <th>0</th>\n",
       "      <td>20201001.012630.11-CM.BAR2.00.HHZ</td>\n",
       "      <td>2020-10-01 01:26:30.118393+00:00</td>\n",
       "      <td>{'@networkCode': 'CM', '@stationCode': 'BAR2',...</td>\n",
       "      <td>RMHP(10)&gt;&gt;ITAPER(30)&gt;&gt;BW(4,2,8)&gt;&gt;STALTA(0.1,5.7)</td>\n",
       "      <td>Trigger</td>\n",
       "      <td>P</td>\n",
       "      <td>automatic</td>\n",
       "      <td>{'agencyID': 'SGC', 'author': 'bdrsn', 'creati...</td>\n",
       "      <td>BAR2</td>\n",
       "      <td>bdrsn</td>\n",
       "      <td>HHZ</td>\n",
       "      <td>00</td>\n",
       "    </tr>\n",
       "  </tbody>\n",
       "</table>\n",
       "</div>"
      ],
      "text/plain": [
       "                           @publicID                             time  \\\n",
       "0  20201001.012630.11-CM.BAR2.00.HHZ 2020-10-01 01:26:30.118393+00:00   \n",
       "\n",
       "                                          waveformID  \\\n",
       "0  {'@networkCode': 'CM', '@stationCode': 'BAR2',...   \n",
       "\n",
       "                                           filterID methodID phaseHint  \\\n",
       "0  RMHP(10)>>ITAPER(30)>>BW(4,2,8)>>STALTA(0.1,5.7)  Trigger         P   \n",
       "\n",
       "  evaluationMode                                       creationInfo station  \\\n",
       "0      automatic  {'agencyID': 'SGC', 'author': 'bdrsn', 'creati...    BAR2   \n",
       "\n",
       "  author channel loc  \n",
       "0  bdrsn     HHZ  00  "
      ]
     },
     "metadata": {},
     "execution_count": 11
    }
   ],
   "metadata": {}
  },
  {
   "cell_type": "code",
   "execution_count": null,
   "source": [
    "df.loc[0,'waveformID']"
   ],
   "outputs": [
    {
     "output_type": "execute_result",
     "data": {
      "text/plain": [
       "OrderedDict([('@networkCode', 'CM'),\n",
       "             ('@stationCode', 'BAR2'),\n",
       "             ('@locationCode', '00'),\n",
       "             ('@channelCode', 'HHZ')])"
      ]
     },
     "metadata": {},
     "execution_count": 8
    }
   ],
   "metadata": {}
  },
  {
   "cell_type": "code",
   "execution_count": null,
   "source": [],
   "outputs": [],
   "metadata": {}
  }
 ],
 "metadata": {
  "orig_nbformat": 4,
  "language_info": {
   "name": "python",
   "version": "3.8.0",
   "mimetype": "text/x-python",
   "codemirror_mode": {
    "name": "ipython",
    "version": 3
   },
   "pygments_lexer": "ipython3",
   "nbconvert_exporter": "python",
   "file_extension": ".py"
  },
  "kernelspec": {
   "name": "python3",
   "display_name": "Python 3.8.0 64-bit ('env': venv)"
  },
  "interpreter": {
   "hash": "7c933438da475faf553891a457d17b5aa596cd70e86c6b0d0788d9103db46832"
  }
 },
 "nbformat": 4,
 "nbformat_minor": 2
}